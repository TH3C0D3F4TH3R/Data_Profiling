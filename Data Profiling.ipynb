{
 "cells": [
  {
   "cell_type": "code",
   "execution_count": 34,
   "metadata": {},
   "outputs": [],
   "source": [
    "import pandas as pd\n",
    "import seaborn as sns\n",
    "import matplotlib.pyplot as plt \n",
    "\n",
    "\n",
    "import plotly\n",
    "\n",
    "import plotly.graph_objects as go"
   ]
  },
  {
   "cell_type": "code",
   "execution_count": 35,
   "metadata": {},
   "outputs": [],
   "source": [
    "data = pd.read_csv('data_bank.csv',)"
   ]
  },
  {
   "cell_type": "code",
   "execution_count": 36,
   "metadata": {},
   "outputs": [
    {
     "data": {
      "text/html": [
       "<div>\n",
       "<style scoped>\n",
       "    .dataframe tbody tr th:only-of-type {\n",
       "        vertical-align: middle;\n",
       "    }\n",
       "\n",
       "    .dataframe tbody tr th {\n",
       "        vertical-align: top;\n",
       "    }\n",
       "\n",
       "    .dataframe thead th {\n",
       "        text-align: right;\n",
       "    }\n",
       "</style>\n",
       "<table border=\"1\" class=\"dataframe\">\n",
       "  <thead>\n",
       "    <tr style=\"text-align: right;\">\n",
       "      <th></th>\n",
       "      <th>Unnamed: 0</th>\n",
       "      <th>job</th>\n",
       "      <th>default</th>\n",
       "      <th>housing</th>\n",
       "      <th>loan</th>\n",
       "      <th>contact</th>\n",
       "      <th>month</th>\n",
       "      <th>day_of_week</th>\n",
       "      <th>duration</th>\n",
       "      <th>campaign</th>\n",
       "      <th>pdays</th>\n",
       "      <th>previous</th>\n",
       "      <th>poutcome</th>\n",
       "      <th>emp_var_rate</th>\n",
       "      <th>cons_price_idx</th>\n",
       "      <th>cons_conf_idx</th>\n",
       "      <th>euribor3m</th>\n",
       "      <th>nr_employed</th>\n",
       "      <th>y</th>\n",
       "      <th>Person_ID</th>\n",
       "    </tr>\n",
       "  </thead>\n",
       "  <tbody>\n",
       "    <tr>\n",
       "      <th>0</th>\n",
       "      <td>0</td>\n",
       "      <td>blue-collar</td>\n",
       "      <td>unknown</td>\n",
       "      <td>yes</td>\n",
       "      <td>no</td>\n",
       "      <td>cellular</td>\n",
       "      <td>aug</td>\n",
       "      <td>thu</td>\n",
       "      <td>210</td>\n",
       "      <td>1</td>\n",
       "      <td>999</td>\n",
       "      <td>0</td>\n",
       "      <td>nonexistent</td>\n",
       "      <td>1.4</td>\n",
       "      <td>93.444</td>\n",
       "      <td>-36.1</td>\n",
       "      <td>4.963</td>\n",
       "      <td>5228.1</td>\n",
       "      <td>0</td>\n",
       "      <td>32081</td>\n",
       "    </tr>\n",
       "    <tr>\n",
       "      <th>1</th>\n",
       "      <td>1</td>\n",
       "      <td>technician</td>\n",
       "      <td>no</td>\n",
       "      <td>no</td>\n",
       "      <td>no</td>\n",
       "      <td>cellular</td>\n",
       "      <td>nov</td>\n",
       "      <td>fri</td>\n",
       "      <td>138</td>\n",
       "      <td>1</td>\n",
       "      <td>999</td>\n",
       "      <td>0</td>\n",
       "      <td>nonexistent</td>\n",
       "      <td>-0.1</td>\n",
       "      <td>93.200</td>\n",
       "      <td>-42.0</td>\n",
       "      <td>4.021</td>\n",
       "      <td>5195.8</td>\n",
       "      <td>0</td>\n",
       "      <td>30183</td>\n",
       "    </tr>\n",
       "    <tr>\n",
       "      <th>2</th>\n",
       "      <td>2</td>\n",
       "      <td>management</td>\n",
       "      <td>no</td>\n",
       "      <td>yes</td>\n",
       "      <td>no</td>\n",
       "      <td>cellular</td>\n",
       "      <td>jun</td>\n",
       "      <td>thu</td>\n",
       "      <td>339</td>\n",
       "      <td>3</td>\n",
       "      <td>6</td>\n",
       "      <td>2</td>\n",
       "      <td>success</td>\n",
       "      <td>-1.7</td>\n",
       "      <td>94.055</td>\n",
       "      <td>-39.8</td>\n",
       "      <td>0.729</td>\n",
       "      <td>4991.6</td>\n",
       "      <td>1</td>\n",
       "      <td>3331</td>\n",
       "    </tr>\n",
       "    <tr>\n",
       "      <th>3</th>\n",
       "      <td>3</td>\n",
       "      <td>services</td>\n",
       "      <td>no</td>\n",
       "      <td>no</td>\n",
       "      <td>no</td>\n",
       "      <td>cellular</td>\n",
       "      <td>apr</td>\n",
       "      <td>fri</td>\n",
       "      <td>185</td>\n",
       "      <td>2</td>\n",
       "      <td>999</td>\n",
       "      <td>0</td>\n",
       "      <td>nonexistent</td>\n",
       "      <td>-1.8</td>\n",
       "      <td>93.075</td>\n",
       "      <td>-47.1</td>\n",
       "      <td>1.405</td>\n",
       "      <td>5099.1</td>\n",
       "      <td>0</td>\n",
       "      <td>37574</td>\n",
       "    </tr>\n",
       "    <tr>\n",
       "      <th>4</th>\n",
       "      <td>4</td>\n",
       "      <td>retired</td>\n",
       "      <td>no</td>\n",
       "      <td>yes</td>\n",
       "      <td>no</td>\n",
       "      <td>cellular</td>\n",
       "      <td>aug</td>\n",
       "      <td>fri</td>\n",
       "      <td>137</td>\n",
       "      <td>1</td>\n",
       "      <td>3</td>\n",
       "      <td>1</td>\n",
       "      <td>success</td>\n",
       "      <td>-2.9</td>\n",
       "      <td>92.201</td>\n",
       "      <td>-31.4</td>\n",
       "      <td>0.869</td>\n",
       "      <td>5076.2</td>\n",
       "      <td>1</td>\n",
       "      <td>8654</td>\n",
       "    </tr>\n",
       "  </tbody>\n",
       "</table>\n",
       "</div>"
      ],
      "text/plain": [
       "   Unnamed: 0          job  default housing loan   contact month day_of_week  \\\n",
       "0           0  blue-collar  unknown     yes   no  cellular   aug         thu   \n",
       "1           1   technician       no      no   no  cellular   nov         fri   \n",
       "2           2   management       no     yes   no  cellular   jun         thu   \n",
       "3           3     services       no      no   no  cellular   apr         fri   \n",
       "4           4      retired       no     yes   no  cellular   aug         fri   \n",
       "\n",
       "   duration  campaign  pdays  previous     poutcome  emp_var_rate  \\\n",
       "0       210         1    999         0  nonexistent           1.4   \n",
       "1       138         1    999         0  nonexistent          -0.1   \n",
       "2       339         3      6         2      success          -1.7   \n",
       "3       185         2    999         0  nonexistent          -1.8   \n",
       "4       137         1      3         1      success          -2.9   \n",
       "\n",
       "   cons_price_idx  cons_conf_idx  euribor3m  nr_employed  y  Person_ID  \n",
       "0          93.444          -36.1      4.963       5228.1  0      32081  \n",
       "1          93.200          -42.0      4.021       5195.8  0      30183  \n",
       "2          94.055          -39.8      0.729       4991.6  1       3331  \n",
       "3          93.075          -47.1      1.405       5099.1  0      37574  \n",
       "4          92.201          -31.4      0.869       5076.2  1       8654  "
      ]
     },
     "execution_count": 36,
     "metadata": {},
     "output_type": "execute_result"
    }
   ],
   "source": [
    "\n",
    "data.head()"
   ]
  },
  {
   "cell_type": "markdown",
   "metadata": {},
   "source": [
    "### Select Variables and Target metric. Here my target is 'y' variable"
   ]
  },
  {
   "cell_type": "code",
   "execution_count": 37,
   "metadata": {},
   "outputs": [],
   "source": [
    "data_profiling = data[['job','housing','loan','contact','y']].copy()"
   ]
  },
  {
   "cell_type": "markdown",
   "metadata": {},
   "source": [
    "### Renaming target variable to name 'target'"
   ]
  },
  {
   "cell_type": "code",
   "execution_count": 38,
   "metadata": {},
   "outputs": [
    {
     "data": {
      "text/html": [
       "<div>\n",
       "<style scoped>\n",
       "    .dataframe tbody tr th:only-of-type {\n",
       "        vertical-align: middle;\n",
       "    }\n",
       "\n",
       "    .dataframe tbody tr th {\n",
       "        vertical-align: top;\n",
       "    }\n",
       "\n",
       "    .dataframe thead th {\n",
       "        text-align: right;\n",
       "    }\n",
       "</style>\n",
       "<table border=\"1\" class=\"dataframe\">\n",
       "  <thead>\n",
       "    <tr style=\"text-align: right;\">\n",
       "      <th></th>\n",
       "      <th>job</th>\n",
       "      <th>housing</th>\n",
       "      <th>loan</th>\n",
       "      <th>contact</th>\n",
       "      <th>target</th>\n",
       "      <th>cnt</th>\n",
       "    </tr>\n",
       "  </thead>\n",
       "  <tbody>\n",
       "    <tr>\n",
       "      <th>0</th>\n",
       "      <td>blue-collar</td>\n",
       "      <td>yes</td>\n",
       "      <td>no</td>\n",
       "      <td>cellular</td>\n",
       "      <td>0</td>\n",
       "      <td>1</td>\n",
       "    </tr>\n",
       "    <tr>\n",
       "      <th>1</th>\n",
       "      <td>technician</td>\n",
       "      <td>no</td>\n",
       "      <td>no</td>\n",
       "      <td>cellular</td>\n",
       "      <td>0</td>\n",
       "      <td>1</td>\n",
       "    </tr>\n",
       "    <tr>\n",
       "      <th>2</th>\n",
       "      <td>management</td>\n",
       "      <td>yes</td>\n",
       "      <td>no</td>\n",
       "      <td>cellular</td>\n",
       "      <td>1</td>\n",
       "      <td>1</td>\n",
       "    </tr>\n",
       "    <tr>\n",
       "      <th>3</th>\n",
       "      <td>services</td>\n",
       "      <td>no</td>\n",
       "      <td>no</td>\n",
       "      <td>cellular</td>\n",
       "      <td>0</td>\n",
       "      <td>1</td>\n",
       "    </tr>\n",
       "    <tr>\n",
       "      <th>4</th>\n",
       "      <td>retired</td>\n",
       "      <td>yes</td>\n",
       "      <td>no</td>\n",
       "      <td>cellular</td>\n",
       "      <td>1</td>\n",
       "      <td>1</td>\n",
       "    </tr>\n",
       "  </tbody>\n",
       "</table>\n",
       "</div>"
      ],
      "text/plain": [
       "           job housing loan   contact  target  cnt\n",
       "0  blue-collar     yes   no  cellular       0    1\n",
       "1   technician      no   no  cellular       0    1\n",
       "2   management     yes   no  cellular       1    1\n",
       "3     services      no   no  cellular       0    1\n",
       "4      retired     yes   no  cellular       1    1"
      ]
     },
     "execution_count": 38,
     "metadata": {},
     "output_type": "execute_result"
    }
   ],
   "source": [
    "data_profiling = data_profiling.rename(columns={'y':'target'})\n",
    "data_profiling['cnt'] = 1\n",
    "data_profiling.head()"
   ]
  },
  {
   "cell_type": "code",
   "execution_count": 39,
   "metadata": {},
   "outputs": [],
   "source": [
    "df = pd.DataFrame()\n",
    "for var in data_profiling.columns[:-2]:\n",
    "    temp_df = pd.pivot_table(data = data_profiling, values='cnt',index = var,columns='target',aggfunc='count' ).reset_index()\n",
    "    temp_df['Var'] = var\n",
    "    temp_df = temp_df.rename(columns={var:'lvl',0:'target_0',1:'target_1'})\n",
    "    temp_df['Obs'] = temp_df['target_0'] + temp_df['target_1']\n",
    "    temp_df['target_1_%'] = temp_df['target_1']/temp_df['Obs'] *100\n",
    "    temp_df['target_0_%'] = temp_df['target_0']/temp_df['Obs'] *100\n",
    "    df = df.append(temp_df)\n",
    "df = df[['Var','lvl','Obs','target_0','target_1','target_0_%','target_1_%']]"
   ]
  },
  {
   "cell_type": "code",
   "execution_count": 40,
   "metadata": {},
   "outputs": [
    {
     "data": {
      "text/html": [
       "<div>\n",
       "<style scoped>\n",
       "    .dataframe tbody tr th:only-of-type {\n",
       "        vertical-align: middle;\n",
       "    }\n",
       "\n",
       "    .dataframe tbody tr th {\n",
       "        vertical-align: top;\n",
       "    }\n",
       "\n",
       "    .dataframe thead th {\n",
       "        text-align: right;\n",
       "    }\n",
       "</style>\n",
       "<table border=\"1\" class=\"dataframe\">\n",
       "  <thead>\n",
       "    <tr style=\"text-align: right;\">\n",
       "      <th>target</th>\n",
       "      <th>Var</th>\n",
       "      <th>lvl</th>\n",
       "      <th>Obs</th>\n",
       "      <th>target_0</th>\n",
       "      <th>target_1</th>\n",
       "      <th>target_0_%</th>\n",
       "      <th>target_1_%</th>\n",
       "    </tr>\n",
       "  </thead>\n",
       "  <tbody>\n",
       "    <tr>\n",
       "      <th>0</th>\n",
       "      <td>job</td>\n",
       "      <td>admin.</td>\n",
       "      <td>10422</td>\n",
       "      <td>9070</td>\n",
       "      <td>1352</td>\n",
       "      <td>87.027442</td>\n",
       "      <td>12.972558</td>\n",
       "    </tr>\n",
       "    <tr>\n",
       "      <th>1</th>\n",
       "      <td>job</td>\n",
       "      <td>blue-collar</td>\n",
       "      <td>9254</td>\n",
       "      <td>8616</td>\n",
       "      <td>638</td>\n",
       "      <td>93.105684</td>\n",
       "      <td>6.894316</td>\n",
       "    </tr>\n",
       "    <tr>\n",
       "      <th>2</th>\n",
       "      <td>job</td>\n",
       "      <td>entrepreneur</td>\n",
       "      <td>1456</td>\n",
       "      <td>1332</td>\n",
       "      <td>124</td>\n",
       "      <td>91.483516</td>\n",
       "      <td>8.516484</td>\n",
       "    </tr>\n",
       "    <tr>\n",
       "      <th>3</th>\n",
       "      <td>job</td>\n",
       "      <td>housemaid</td>\n",
       "      <td>1060</td>\n",
       "      <td>954</td>\n",
       "      <td>106</td>\n",
       "      <td>90.000000</td>\n",
       "      <td>10.000000</td>\n",
       "    </tr>\n",
       "    <tr>\n",
       "      <th>4</th>\n",
       "      <td>job</td>\n",
       "      <td>management</td>\n",
       "      <td>2924</td>\n",
       "      <td>2596</td>\n",
       "      <td>328</td>\n",
       "      <td>88.782490</td>\n",
       "      <td>11.217510</td>\n",
       "    </tr>\n",
       "    <tr>\n",
       "      <th>5</th>\n",
       "      <td>job</td>\n",
       "      <td>retired</td>\n",
       "      <td>1720</td>\n",
       "      <td>1286</td>\n",
       "      <td>434</td>\n",
       "      <td>74.767442</td>\n",
       "      <td>25.232558</td>\n",
       "    </tr>\n",
       "    <tr>\n",
       "      <th>6</th>\n",
       "      <td>job</td>\n",
       "      <td>self-employed</td>\n",
       "      <td>1421</td>\n",
       "      <td>1272</td>\n",
       "      <td>149</td>\n",
       "      <td>89.514426</td>\n",
       "      <td>10.485574</td>\n",
       "    </tr>\n",
       "    <tr>\n",
       "      <th>7</th>\n",
       "      <td>job</td>\n",
       "      <td>services</td>\n",
       "      <td>3969</td>\n",
       "      <td>3646</td>\n",
       "      <td>323</td>\n",
       "      <td>91.861930</td>\n",
       "      <td>8.138070</td>\n",
       "    </tr>\n",
       "    <tr>\n",
       "      <th>8</th>\n",
       "      <td>job</td>\n",
       "      <td>student</td>\n",
       "      <td>875</td>\n",
       "      <td>600</td>\n",
       "      <td>275</td>\n",
       "      <td>68.571429</td>\n",
       "      <td>31.428571</td>\n",
       "    </tr>\n",
       "    <tr>\n",
       "      <th>9</th>\n",
       "      <td>job</td>\n",
       "      <td>technician</td>\n",
       "      <td>6743</td>\n",
       "      <td>6013</td>\n",
       "      <td>730</td>\n",
       "      <td>89.173958</td>\n",
       "      <td>10.826042</td>\n",
       "    </tr>\n",
       "    <tr>\n",
       "      <th>10</th>\n",
       "      <td>job</td>\n",
       "      <td>unemployed</td>\n",
       "      <td>1014</td>\n",
       "      <td>870</td>\n",
       "      <td>144</td>\n",
       "      <td>85.798817</td>\n",
       "      <td>14.201183</td>\n",
       "    </tr>\n",
       "    <tr>\n",
       "      <th>11</th>\n",
       "      <td>job</td>\n",
       "      <td>unknown</td>\n",
       "      <td>330</td>\n",
       "      <td>293</td>\n",
       "      <td>37</td>\n",
       "      <td>88.787879</td>\n",
       "      <td>11.212121</td>\n",
       "    </tr>\n",
       "    <tr>\n",
       "      <th>0</th>\n",
       "      <td>housing</td>\n",
       "      <td>no</td>\n",
       "      <td>18622</td>\n",
       "      <td>16596</td>\n",
       "      <td>2026</td>\n",
       "      <td>89.120395</td>\n",
       "      <td>10.879605</td>\n",
       "    </tr>\n",
       "    <tr>\n",
       "      <th>1</th>\n",
       "      <td>housing</td>\n",
       "      <td>unknown</td>\n",
       "      <td>990</td>\n",
       "      <td>883</td>\n",
       "      <td>107</td>\n",
       "      <td>89.191919</td>\n",
       "      <td>10.808081</td>\n",
       "    </tr>\n",
       "    <tr>\n",
       "      <th>2</th>\n",
       "      <td>housing</td>\n",
       "      <td>yes</td>\n",
       "      <td>21576</td>\n",
       "      <td>19069</td>\n",
       "      <td>2507</td>\n",
       "      <td>88.380608</td>\n",
       "      <td>11.619392</td>\n",
       "    </tr>\n",
       "    <tr>\n",
       "      <th>0</th>\n",
       "      <td>loan</td>\n",
       "      <td>no</td>\n",
       "      <td>33950</td>\n",
       "      <td>30100</td>\n",
       "      <td>3850</td>\n",
       "      <td>88.659794</td>\n",
       "      <td>11.340206</td>\n",
       "    </tr>\n",
       "    <tr>\n",
       "      <th>1</th>\n",
       "      <td>loan</td>\n",
       "      <td>unknown</td>\n",
       "      <td>990</td>\n",
       "      <td>883</td>\n",
       "      <td>107</td>\n",
       "      <td>89.191919</td>\n",
       "      <td>10.808081</td>\n",
       "    </tr>\n",
       "    <tr>\n",
       "      <th>2</th>\n",
       "      <td>loan</td>\n",
       "      <td>yes</td>\n",
       "      <td>6248</td>\n",
       "      <td>5565</td>\n",
       "      <td>683</td>\n",
       "      <td>89.068502</td>\n",
       "      <td>10.931498</td>\n",
       "    </tr>\n",
       "    <tr>\n",
       "      <th>0</th>\n",
       "      <td>contact</td>\n",
       "      <td>cellular</td>\n",
       "      <td>26144</td>\n",
       "      <td>22291</td>\n",
       "      <td>3853</td>\n",
       "      <td>85.262393</td>\n",
       "      <td>14.737607</td>\n",
       "    </tr>\n",
       "    <tr>\n",
       "      <th>1</th>\n",
       "      <td>contact</td>\n",
       "      <td>telephone</td>\n",
       "      <td>15044</td>\n",
       "      <td>14257</td>\n",
       "      <td>787</td>\n",
       "      <td>94.768679</td>\n",
       "      <td>5.231321</td>\n",
       "    </tr>\n",
       "  </tbody>\n",
       "</table>\n",
       "</div>"
      ],
      "text/plain": [
       "target      Var            lvl    Obs  target_0  target_1  target_0_%  \\\n",
       "0           job         admin.  10422      9070      1352   87.027442   \n",
       "1           job    blue-collar   9254      8616       638   93.105684   \n",
       "2           job   entrepreneur   1456      1332       124   91.483516   \n",
       "3           job      housemaid   1060       954       106   90.000000   \n",
       "4           job     management   2924      2596       328   88.782490   \n",
       "5           job        retired   1720      1286       434   74.767442   \n",
       "6           job  self-employed   1421      1272       149   89.514426   \n",
       "7           job       services   3969      3646       323   91.861930   \n",
       "8           job        student    875       600       275   68.571429   \n",
       "9           job     technician   6743      6013       730   89.173958   \n",
       "10          job     unemployed   1014       870       144   85.798817   \n",
       "11          job        unknown    330       293        37   88.787879   \n",
       "0       housing             no  18622     16596      2026   89.120395   \n",
       "1       housing        unknown    990       883       107   89.191919   \n",
       "2       housing            yes  21576     19069      2507   88.380608   \n",
       "0          loan             no  33950     30100      3850   88.659794   \n",
       "1          loan        unknown    990       883       107   89.191919   \n",
       "2          loan            yes   6248      5565       683   89.068502   \n",
       "0       contact       cellular  26144     22291      3853   85.262393   \n",
       "1       contact      telephone  15044     14257       787   94.768679   \n",
       "\n",
       "target  target_1_%  \n",
       "0        12.972558  \n",
       "1         6.894316  \n",
       "2         8.516484  \n",
       "3        10.000000  \n",
       "4        11.217510  \n",
       "5        25.232558  \n",
       "6        10.485574  \n",
       "7         8.138070  \n",
       "8        31.428571  \n",
       "9        10.826042  \n",
       "10       14.201183  \n",
       "11       11.212121  \n",
       "0        10.879605  \n",
       "1        10.808081  \n",
       "2        11.619392  \n",
       "0        11.340206  \n",
       "1        10.808081  \n",
       "2        10.931498  \n",
       "0        14.737607  \n",
       "1         5.231321  "
      ]
     },
     "execution_count": 40,
     "metadata": {},
     "output_type": "execute_result"
    }
   ],
   "source": [
    "df"
   ]
  },
  {
   "cell_type": "code",
   "execution_count": null,
   "metadata": {},
   "outputs": [],
   "source": []
  },
  {
   "cell_type": "code",
   "execution_count": 126,
   "metadata": {},
   "outputs": [
    {
     "data": {
      "application/vnd.plotly.v1+json": {
       "config": {
        "plotlyServerURL": "https://plot.ly"
       },
       "data": [
        {
         "name": "Obs Count",
         "type": "bar",
         "x": [
          "admin.",
          "blue-collar",
          "entrepreneur",
          "housemaid",
          "management",
          "retired",
          "self-employed",
          "services",
          "student",
          "technician",
          "unemployed",
          "unknown"
         ],
         "xaxis": "x",
         "y": [
          10422,
          9254,
          1456,
          1060,
          2924,
          1720,
          1421,
          3969,
          875,
          6743,
          1014,
          330
         ],
         "yaxis": "y"
        },
        {
         "name": "target %",
         "type": "scatter",
         "x": [
          "admin.",
          "blue-collar",
          "entrepreneur",
          "housemaid",
          "management",
          "retired",
          "self-employed",
          "services",
          "student",
          "technician",
          "unemployed",
          "unknown"
         ],
         "xaxis": "x",
         "y": [
          12.972558050278257,
          6.894315971471795,
          8.516483516483516,
          10,
          11.21751025991792,
          25.232558139534884,
          10.48557353976073,
          8.138070042831949,
          31.428571428571427,
          10.826041821147857,
          14.201183431952662,
          11.212121212121213
         ],
         "yaxis": "y2"
        }
       ],
       "layout": {
        "template": {
         "data": {
          "scatter": [
           {
            "type": "scatter"
           }
          ]
         }
        },
        "title": {
         "text": "Data Profiling : job"
        },
        "xaxis": {
         "anchor": "y",
         "domain": [
          0,
          0.94
         ],
         "showgrid": false,
         "title": {
          "text": "Category"
         }
        },
        "yaxis": {
         "anchor": "x",
         "domain": [
          0,
          1
         ],
         "showgrid": false,
         "title": {
          "text": "Count of Obs"
         }
        },
        "yaxis2": {
         "anchor": "x",
         "overlaying": "y",
         "side": "right",
         "title": {
          "text": "% Target"
         }
        }
       }
      },
      "text/html": [
       "<div>\n",
       "        \n",
       "        \n",
       "            <div id=\"66cd1f71-96b1-406a-9340-9043c6ad750c\" class=\"plotly-graph-div\" style=\"height:525px; width:100%;\"></div>\n",
       "            <script type=\"text/javascript\">\n",
       "                require([\"plotly\"], function(Plotly) {\n",
       "                    window.PLOTLYENV=window.PLOTLYENV || {};\n",
       "                    \n",
       "                if (document.getElementById(\"66cd1f71-96b1-406a-9340-9043c6ad750c\")) {\n",
       "                    Plotly.newPlot(\n",
       "                        '66cd1f71-96b1-406a-9340-9043c6ad750c',\n",
       "                        [{\"name\": \"Obs Count\", \"type\": \"bar\", \"x\": [\"admin.\", \"blue-collar\", \"entrepreneur\", \"housemaid\", \"management\", \"retired\", \"self-employed\", \"services\", \"student\", \"technician\", \"unemployed\", \"unknown\"], \"xaxis\": \"x\", \"y\": [10422, 9254, 1456, 1060, 2924, 1720, 1421, 3969, 875, 6743, 1014, 330], \"yaxis\": \"y\"}, {\"name\": \"target %\", \"type\": \"scatter\", \"x\": [\"admin.\", \"blue-collar\", \"entrepreneur\", \"housemaid\", \"management\", \"retired\", \"self-employed\", \"services\", \"student\", \"technician\", \"unemployed\", \"unknown\"], \"xaxis\": \"x\", \"y\": [12.972558050278257, 6.894315971471795, 8.516483516483516, 10.0, 11.21751025991792, 25.232558139534884, 10.48557353976073, 8.138070042831949, 31.428571428571427, 10.826041821147857, 14.201183431952662, 11.212121212121213], \"yaxis\": \"y2\"}],\n",
       "                        {\"template\": {\"data\": {\"scatter\": [{\"type\": \"scatter\"}]}}, \"title\": {\"text\": \"Data Profiling : job\"}, \"xaxis\": {\"anchor\": \"y\", \"domain\": [0.0, 0.94], \"showgrid\": false, \"title\": {\"text\": \"Category\"}}, \"yaxis\": {\"anchor\": \"x\", \"domain\": [0.0, 1.0], \"showgrid\": false, \"title\": {\"text\": \"Count of Obs\"}}, \"yaxis2\": {\"anchor\": \"x\", \"overlaying\": \"y\", \"side\": \"right\", \"title\": {\"text\": \"% Target\"}}},\n",
       "                        {\"responsive\": true}\n",
       "                    ).then(function(){\n",
       "                            \n",
       "var gd = document.getElementById('66cd1f71-96b1-406a-9340-9043c6ad750c');\n",
       "var x = new MutationObserver(function (mutations, observer) {{\n",
       "        var display = window.getComputedStyle(gd).display;\n",
       "        if (!display || display === 'none') {{\n",
       "            console.log([gd, 'removed!']);\n",
       "            Plotly.purge(gd);\n",
       "            observer.disconnect();\n",
       "        }}\n",
       "}});\n",
       "\n",
       "// Listen for the removal of the full notebook cells\n",
       "var notebookContainer = gd.closest('#notebook-container');\n",
       "if (notebookContainer) {{\n",
       "    x.observe(notebookContainer, {childList: true});\n",
       "}}\n",
       "\n",
       "// Listen for the clearing of the current output cell\n",
       "var outputEl = gd.closest('.output');\n",
       "if (outputEl) {{\n",
       "    x.observe(outputEl, {childList: true});\n",
       "}}\n",
       "\n",
       "                        })\n",
       "                };\n",
       "                });\n",
       "            </script>\n",
       "        </div>"
      ]
     },
     "metadata": {},
     "output_type": "display_data"
    },
    {
     "data": {
      "application/vnd.plotly.v1+json": {
       "config": {
        "plotlyServerURL": "https://plot.ly"
       },
       "data": [
        {
         "name": "Obs Count",
         "type": "bar",
         "x": [
          "no",
          "unknown",
          "yes"
         ],
         "xaxis": "x",
         "y": [
          18622,
          990,
          21576
         ],
         "yaxis": "y"
        },
        {
         "name": "target %",
         "type": "scatter",
         "x": [
          "no",
          "unknown",
          "yes"
         ],
         "xaxis": "x",
         "y": [
          10.879604768553323,
          10.808080808080808,
          11.619391916944753
         ],
         "yaxis": "y2"
        }
       ],
       "layout": {
        "template": {
         "data": {
          "scatter": [
           {
            "type": "scatter"
           }
          ]
         }
        },
        "title": {
         "text": "Data Profiling : housing"
        },
        "xaxis": {
         "anchor": "y",
         "domain": [
          0,
          0.94
         ],
         "showgrid": false,
         "title": {
          "text": "Category"
         }
        },
        "yaxis": {
         "anchor": "x",
         "domain": [
          0,
          1
         ],
         "showgrid": false,
         "title": {
          "text": "Count of Obs"
         }
        },
        "yaxis2": {
         "anchor": "x",
         "overlaying": "y",
         "side": "right",
         "title": {
          "text": "% Target"
         }
        }
       }
      },
      "text/html": [
       "<div>\n",
       "        \n",
       "        \n",
       "            <div id=\"46eecbc1-c3bb-43e7-b64e-5e0db12f8a33\" class=\"plotly-graph-div\" style=\"height:525px; width:100%;\"></div>\n",
       "            <script type=\"text/javascript\">\n",
       "                require([\"plotly\"], function(Plotly) {\n",
       "                    window.PLOTLYENV=window.PLOTLYENV || {};\n",
       "                    \n",
       "                if (document.getElementById(\"46eecbc1-c3bb-43e7-b64e-5e0db12f8a33\")) {\n",
       "                    Plotly.newPlot(\n",
       "                        '46eecbc1-c3bb-43e7-b64e-5e0db12f8a33',\n",
       "                        [{\"name\": \"Obs Count\", \"type\": \"bar\", \"x\": [\"no\", \"unknown\", \"yes\"], \"xaxis\": \"x\", \"y\": [18622, 990, 21576], \"yaxis\": \"y\"}, {\"name\": \"target %\", \"type\": \"scatter\", \"x\": [\"no\", \"unknown\", \"yes\"], \"xaxis\": \"x\", \"y\": [10.879604768553323, 10.808080808080808, 11.619391916944753], \"yaxis\": \"y2\"}],\n",
       "                        {\"template\": {\"data\": {\"scatter\": [{\"type\": \"scatter\"}]}}, \"title\": {\"text\": \"Data Profiling : housing\"}, \"xaxis\": {\"anchor\": \"y\", \"domain\": [0.0, 0.94], \"showgrid\": false, \"title\": {\"text\": \"Category\"}}, \"yaxis\": {\"anchor\": \"x\", \"domain\": [0.0, 1.0], \"showgrid\": false, \"title\": {\"text\": \"Count of Obs\"}}, \"yaxis2\": {\"anchor\": \"x\", \"overlaying\": \"y\", \"side\": \"right\", \"title\": {\"text\": \"% Target\"}}},\n",
       "                        {\"responsive\": true}\n",
       "                    ).then(function(){\n",
       "                            \n",
       "var gd = document.getElementById('46eecbc1-c3bb-43e7-b64e-5e0db12f8a33');\n",
       "var x = new MutationObserver(function (mutations, observer) {{\n",
       "        var display = window.getComputedStyle(gd).display;\n",
       "        if (!display || display === 'none') {{\n",
       "            console.log([gd, 'removed!']);\n",
       "            Plotly.purge(gd);\n",
       "            observer.disconnect();\n",
       "        }}\n",
       "}});\n",
       "\n",
       "// Listen for the removal of the full notebook cells\n",
       "var notebookContainer = gd.closest('#notebook-container');\n",
       "if (notebookContainer) {{\n",
       "    x.observe(notebookContainer, {childList: true});\n",
       "}}\n",
       "\n",
       "// Listen for the clearing of the current output cell\n",
       "var outputEl = gd.closest('.output');\n",
       "if (outputEl) {{\n",
       "    x.observe(outputEl, {childList: true});\n",
       "}}\n",
       "\n",
       "                        })\n",
       "                };\n",
       "                });\n",
       "            </script>\n",
       "        </div>"
      ]
     },
     "metadata": {},
     "output_type": "display_data"
    },
    {
     "data": {
      "application/vnd.plotly.v1+json": {
       "config": {
        "plotlyServerURL": "https://plot.ly"
       },
       "data": [
        {
         "name": "Obs Count",
         "type": "bar",
         "x": [
          "no",
          "unknown",
          "yes"
         ],
         "xaxis": "x",
         "y": [
          33950,
          990,
          6248
         ],
         "yaxis": "y"
        },
        {
         "name": "target %",
         "type": "scatter",
         "x": [
          "no",
          "unknown",
          "yes"
         ],
         "xaxis": "x",
         "y": [
          11.34020618556701,
          10.808080808080808,
          10.931498079385403
         ],
         "yaxis": "y2"
        }
       ],
       "layout": {
        "template": {
         "data": {
          "scatter": [
           {
            "type": "scatter"
           }
          ]
         }
        },
        "title": {
         "text": "Data Profiling : loan"
        },
        "xaxis": {
         "anchor": "y",
         "domain": [
          0,
          0.94
         ],
         "showgrid": false,
         "title": {
          "text": "Category"
         }
        },
        "yaxis": {
         "anchor": "x",
         "domain": [
          0,
          1
         ],
         "showgrid": false,
         "title": {
          "text": "Count of Obs"
         }
        },
        "yaxis2": {
         "anchor": "x",
         "overlaying": "y",
         "side": "right",
         "title": {
          "text": "% Target"
         }
        }
       }
      },
      "text/html": [
       "<div>\n",
       "        \n",
       "        \n",
       "            <div id=\"1d148446-1835-4183-bda5-f3cd7dd68f3d\" class=\"plotly-graph-div\" style=\"height:525px; width:100%;\"></div>\n",
       "            <script type=\"text/javascript\">\n",
       "                require([\"plotly\"], function(Plotly) {\n",
       "                    window.PLOTLYENV=window.PLOTLYENV || {};\n",
       "                    \n",
       "                if (document.getElementById(\"1d148446-1835-4183-bda5-f3cd7dd68f3d\")) {\n",
       "                    Plotly.newPlot(\n",
       "                        '1d148446-1835-4183-bda5-f3cd7dd68f3d',\n",
       "                        [{\"name\": \"Obs Count\", \"type\": \"bar\", \"x\": [\"no\", \"unknown\", \"yes\"], \"xaxis\": \"x\", \"y\": [33950, 990, 6248], \"yaxis\": \"y\"}, {\"name\": \"target %\", \"type\": \"scatter\", \"x\": [\"no\", \"unknown\", \"yes\"], \"xaxis\": \"x\", \"y\": [11.34020618556701, 10.808080808080808, 10.931498079385403], \"yaxis\": \"y2\"}],\n",
       "                        {\"template\": {\"data\": {\"scatter\": [{\"type\": \"scatter\"}]}}, \"title\": {\"text\": \"Data Profiling : loan\"}, \"xaxis\": {\"anchor\": \"y\", \"domain\": [0.0, 0.94], \"showgrid\": false, \"title\": {\"text\": \"Category\"}}, \"yaxis\": {\"anchor\": \"x\", \"domain\": [0.0, 1.0], \"showgrid\": false, \"title\": {\"text\": \"Count of Obs\"}}, \"yaxis2\": {\"anchor\": \"x\", \"overlaying\": \"y\", \"side\": \"right\", \"title\": {\"text\": \"% Target\"}}},\n",
       "                        {\"responsive\": true}\n",
       "                    ).then(function(){\n",
       "                            \n",
       "var gd = document.getElementById('1d148446-1835-4183-bda5-f3cd7dd68f3d');\n",
       "var x = new MutationObserver(function (mutations, observer) {{\n",
       "        var display = window.getComputedStyle(gd).display;\n",
       "        if (!display || display === 'none') {{\n",
       "            console.log([gd, 'removed!']);\n",
       "            Plotly.purge(gd);\n",
       "            observer.disconnect();\n",
       "        }}\n",
       "}});\n",
       "\n",
       "// Listen for the removal of the full notebook cells\n",
       "var notebookContainer = gd.closest('#notebook-container');\n",
       "if (notebookContainer) {{\n",
       "    x.observe(notebookContainer, {childList: true});\n",
       "}}\n",
       "\n",
       "// Listen for the clearing of the current output cell\n",
       "var outputEl = gd.closest('.output');\n",
       "if (outputEl) {{\n",
       "    x.observe(outputEl, {childList: true});\n",
       "}}\n",
       "\n",
       "                        })\n",
       "                };\n",
       "                });\n",
       "            </script>\n",
       "        </div>"
      ]
     },
     "metadata": {},
     "output_type": "display_data"
    },
    {
     "data": {
      "application/vnd.plotly.v1+json": {
       "config": {
        "plotlyServerURL": "https://plot.ly"
       },
       "data": [
        {
         "name": "Obs Count",
         "type": "bar",
         "x": [
          "cellular",
          "telephone"
         ],
         "xaxis": "x",
         "y": [
          26144,
          15044
         ],
         "yaxis": "y"
        },
        {
         "name": "target %",
         "type": "scatter",
         "x": [
          "cellular",
          "telephone"
         ],
         "xaxis": "x",
         "y": [
          14.737607099143208,
          5.231321457059293
         ],
         "yaxis": "y2"
        }
       ],
       "layout": {
        "template": {
         "data": {
          "scatter": [
           {
            "type": "scatter"
           }
          ]
         }
        },
        "title": {
         "text": "Data Profiling : contact"
        },
        "xaxis": {
         "anchor": "y",
         "domain": [
          0,
          0.94
         ],
         "showgrid": false,
         "title": {
          "text": "Category"
         }
        },
        "yaxis": {
         "anchor": "x",
         "domain": [
          0,
          1
         ],
         "showgrid": false,
         "title": {
          "text": "Count of Obs"
         }
        },
        "yaxis2": {
         "anchor": "x",
         "overlaying": "y",
         "side": "right",
         "title": {
          "text": "% Target"
         }
        }
       }
      },
      "text/html": [
       "<div>\n",
       "        \n",
       "        \n",
       "            <div id=\"f6ef2d75-e52f-4d48-840f-ed76af394fc2\" class=\"plotly-graph-div\" style=\"height:525px; width:100%;\"></div>\n",
       "            <script type=\"text/javascript\">\n",
       "                require([\"plotly\"], function(Plotly) {\n",
       "                    window.PLOTLYENV=window.PLOTLYENV || {};\n",
       "                    \n",
       "                if (document.getElementById(\"f6ef2d75-e52f-4d48-840f-ed76af394fc2\")) {\n",
       "                    Plotly.newPlot(\n",
       "                        'f6ef2d75-e52f-4d48-840f-ed76af394fc2',\n",
       "                        [{\"name\": \"Obs Count\", \"type\": \"bar\", \"x\": [\"cellular\", \"telephone\"], \"xaxis\": \"x\", \"y\": [26144, 15044], \"yaxis\": \"y\"}, {\"name\": \"target %\", \"type\": \"scatter\", \"x\": [\"cellular\", \"telephone\"], \"xaxis\": \"x\", \"y\": [14.737607099143208, 5.231321457059293], \"yaxis\": \"y2\"}],\n",
       "                        {\"template\": {\"data\": {\"scatter\": [{\"type\": \"scatter\"}]}}, \"title\": {\"text\": \"Data Profiling : contact\"}, \"xaxis\": {\"anchor\": \"y\", \"domain\": [0.0, 0.94], \"showgrid\": false, \"title\": {\"text\": \"Category\"}}, \"yaxis\": {\"anchor\": \"x\", \"domain\": [0.0, 1.0], \"showgrid\": false, \"title\": {\"text\": \"Count of Obs\"}}, \"yaxis2\": {\"anchor\": \"x\", \"overlaying\": \"y\", \"side\": \"right\", \"title\": {\"text\": \"% Target\"}}},\n",
       "                        {\"responsive\": true}\n",
       "                    ).then(function(){\n",
       "                            \n",
       "var gd = document.getElementById('f6ef2d75-e52f-4d48-840f-ed76af394fc2');\n",
       "var x = new MutationObserver(function (mutations, observer) {{\n",
       "        var display = window.getComputedStyle(gd).display;\n",
       "        if (!display || display === 'none') {{\n",
       "            console.log([gd, 'removed!']);\n",
       "            Plotly.purge(gd);\n",
       "            observer.disconnect();\n",
       "        }}\n",
       "}});\n",
       "\n",
       "// Listen for the removal of the full notebook cells\n",
       "var notebookContainer = gd.closest('#notebook-container');\n",
       "if (notebookContainer) {{\n",
       "    x.observe(notebookContainer, {childList: true});\n",
       "}}\n",
       "\n",
       "// Listen for the clearing of the current output cell\n",
       "var outputEl = gd.closest('.output');\n",
       "if (outputEl) {{\n",
       "    x.observe(outputEl, {childList: true});\n",
       "}}\n",
       "\n",
       "                        })\n",
       "                };\n",
       "                });\n",
       "            </script>\n",
       "        </div>"
      ]
     },
     "metadata": {},
     "output_type": "display_data"
    }
   ],
   "source": [
    "var_unique = df['Var'].unique()\n",
    "traces = []\n",
    "\n",
    "from plotly.subplots import make_subplots\n",
    "\n",
    "# Create figure with secondary y-axis\n",
    "fig = make_subplots(specs=[[{\"secondary_y\": True}]])\n",
    "\n",
    "\n",
    "for var in var_unique:\n",
    "    df_temp = df[df['Var']==var]\n",
    "    fig = make_subplots(specs=[[{\"secondary_y\": True}]])\n",
    "    \n",
    "    trace = fig.add_trace(go.Bar(name='Obs Count', x=df_temp['lvl'], y=df_temp['Obs']),\n",
    "        secondary_y=False,)\n",
    "\n",
    "    trace1 = fig.add_trace(\n",
    "        go.Scatter(name='target %', x=df_temp['lvl'], y=df_temp['target_1_%']),\n",
    "        secondary_y=True,\n",
    "    )\n",
    "\n",
    "    # Add figure title\n",
    "    fig.update_layout(\n",
    "        title_text=\"Data Profiling\" + \" : \" + var\n",
    "    )\n",
    "\n",
    "    # Set x-axis title\n",
    "    fig.update_xaxes(title_text=\"Category\")\n",
    "\n",
    "    # Set y-axes titles\n",
    "    fig.update_yaxes(title_text=\"Count of Obs\", secondary_y=False)\n",
    "    fig.update_yaxes(title_text=\"% Target\", secondary_y=True)\n",
    "    fig.update_layout(template='none',xaxis=dict(showgrid=False),yaxis=dict(showgrid=False))\n",
    "    fig.show()\n"
   ]
  },
  {
   "cell_type": "code",
   "execution_count": null,
   "metadata": {},
   "outputs": [],
   "source": []
  },
  {
   "cell_type": "code",
   "execution_count": null,
   "metadata": {},
   "outputs": [],
   "source": []
  },
  {
   "cell_type": "code",
   "execution_count": 119,
   "metadata": {},
   "outputs": [],
   "source": [
    "# var_unique = df['Var'].unique()\n",
    "# traces = []\n",
    "# list_updatemenus = []\n",
    "\n",
    "# from plotly.subplots import make_subplots\n",
    "\n",
    "# # Create figure with secondary y-axis\n",
    "# fig = make_subplots(specs=[[{\"secondary_y\": True}]])\n",
    "\n",
    "\n",
    "# for var in var_unique:\n",
    "#     df_temp = df[df['Var']==var]\n",
    "#     fig = make_subplots(specs=[[{\"secondary_y\": True}]])\n",
    "    \n",
    "#     trace = fig.add_trace(go.Bar(name='Obs Count', x=df_temp['lvl'], y=df_temp['Obs']),\n",
    "#         secondary_y=False,)\n",
    "\n",
    "#     trace1 = fig.add_trace(\n",
    "#         go.Scatter(name='target %', x=df_temp['lvl'], y=df_temp['target_1_%']),\n",
    "#         secondary_y=True,\n",
    "#     )\n",
    "#     traces.append(trace1)\n",
    "    \n",
    "#     # Add figure title\n",
    "#     fig.update_layout(\n",
    "#         title_text=\"Data Profiling\" + \" : \" + var\n",
    "#     )\n",
    "#     fig.show()\n",
    "# list_updatemenus = []\n",
    "# # for n, year in enumerate(var_unique):\n",
    "# #     visible = [False] * len(var_unique)\n",
    "# #     visible[n] = True\n",
    "# #     temp_dict = dict(label = str(var_unique[n]),\n",
    "# #                  method = 'update',\n",
    "# #                  args = [{'visible': visible},\n",
    "# #                          {'title': 'variable: %s' % year}])\n",
    "# #     list_updatemenus.append(temp_dict)\n",
    "#     # Set x-axis title\n",
    "    \n",
    "\n",
    "    \n"
   ]
  },
  {
   "cell_type": "code",
   "execution_count": 117,
   "metadata": {},
   "outputs": [],
   "source": [
    "# list_updatemenus"
   ]
  },
  {
   "cell_type": "code",
   "execution_count": 105,
   "metadata": {},
   "outputs": [],
   "source": []
  },
  {
   "cell_type": "code",
   "execution_count": null,
   "metadata": {},
   "outputs": [],
   "source": []
  },
  {
   "cell_type": "code",
   "execution_count": null,
   "metadata": {},
   "outputs": [],
   "source": []
  },
  {
   "cell_type": "code",
   "execution_count": null,
   "metadata": {},
   "outputs": [],
   "source": []
  },
  {
   "cell_type": "code",
   "execution_count": null,
   "metadata": {},
   "outputs": [],
   "source": []
  },
  {
   "cell_type": "code",
   "execution_count": null,
   "metadata": {},
   "outputs": [],
   "source": []
  }
 ],
 "metadata": {
  "kernelspec": {
   "display_name": "Python 3",
   "language": "python",
   "name": "python3"
  },
  "language_info": {
   "codemirror_mode": {
    "name": "ipython",
    "version": 3
   },
   "file_extension": ".py",
   "mimetype": "text/x-python",
   "name": "python",
   "nbconvert_exporter": "python",
   "pygments_lexer": "ipython3",
   "version": "3.7.6"
  }
 },
 "nbformat": 4,
 "nbformat_minor": 4
}
